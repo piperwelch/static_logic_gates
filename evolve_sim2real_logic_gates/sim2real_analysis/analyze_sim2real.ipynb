{
 "cells": [
  {
   "cell_type": "code",
   "execution_count": 1,
   "metadata": {},
   "outputs": [],
   "source": [
    "import pandas as pd \n",
    "import matplotlib.pyplot as plt\n",
    "import numpy as np\n"
   ]
  },
  {
   "cell_type": "code",
   "execution_count": 10,
   "metadata": {},
   "outputs": [],
   "source": [
    "df = pd.read_csv(\"sim2real_AND.csv\")\n",
    "df_rand = pd.read_csv(\"sim2real_random.csv\")\n"
   ]
  },
  {
   "cell_type": "code",
   "execution_count": 11,
   "metadata": {},
   "outputs": [
    {
     "name": "stdout",
     "output_type": "stream",
     "text": [
      "5.157 6.047999999999999 6.121\n"
     ]
    }
   ],
   "source": [
    "print(max(df['00']), max(df['01']), max(df['10']))"
   ]
  },
  {
   "cell_type": "code",
   "execution_count": 12,
   "metadata": {},
   "outputs": [
    {
     "name": "stdout",
     "output_type": "stream",
     "text": [
      "AND\n",
      "AND\n",
      "AND\n",
      "AND\n",
      "AND\n",
      "AND\n",
      "AND\n",
      "AND\n",
      "AND\n",
      "AND\n",
      "---------\n",
      "NOT AND\n",
      "---------\n"
     ]
    }
   ],
   "source": [
    "for frame in [df, df_rand]:\n",
    "    for index, row in frame.iterrows():\n",
    "        if row['01'] < row['11'] and row['10'] < row['11'] and row['00'] < row['11']:\n",
    "            print(\"AND\")\n",
    "        else:\n",
    "            print(\"NOT AND\")\n",
    "    print('---------')"
   ]
  },
  {
   "cell_type": "code",
   "execution_count": 13,
   "metadata": {},
   "outputs": [
    {
     "name": "stdout",
     "output_type": "stream",
     "text": [
      "5.9648\n",
      "AND\n",
      "AND\n",
      "AND\n",
      "NOT AND\n",
      "AND\n",
      "AND\n",
      "AND\n",
      "AND\n",
      "AND\n",
      "AND\n",
      "---------\n",
      "9.645499999999998\n",
      "NOT AND\n",
      "---------\n"
     ]
    }
   ],
   "source": [
    "for frame in [df, df_rand]:\n",
    "    threshold = (np.mean(frame['11']) + max(np.mean(frame['00']),np.mean(frame['01']),np.mean(frame['10'])))/2\n",
    "    print(threshold)\n",
    "    for index, row in frame.iterrows():\n",
    "        if row['01'] < row['11'] and row['11'] > threshold and row['10'] < row['11'] and row['00'] < row['11']:\n",
    "            print(\"AND\")\n",
    "        else:\n",
    "            print(\"NOT AND\")\n",
    "    print('---------')"
   ]
  },
  {
   "cell_type": "code",
   "execution_count": 14,
   "metadata": {},
   "outputs": [
    {
     "name": "stdout",
     "output_type": "stream",
     "text": [
      "0.3063145942393752\n",
      "---------\n",
      "-0.017074240295250058\n",
      "---------\n"
     ]
    }
   ],
   "source": [
    "for frame in [df, df_rand]:\n",
    "    threshold = max(max(frame['00']), max(frame['01']), max(frame['10']))\n",
    "    mean_andness = []\n",
    "    for index, row in frame.iterrows():\n",
    "        mean_andness.append(np.log(row['11']/((row['01'] + row['10']+ row['00'])/3)))\n",
    "    mean = sum(mean_andness)/len(mean_andness)\n",
    "    print(mean)\n",
    "    print('---------')"
   ]
  },
  {
   "cell_type": "code",
   "execution_count": 15,
   "metadata": {},
   "outputs": [],
   "source": [
    "config_means_rand = df_rand[['00', '10', '01', '11']].mean()\n",
    "config_std_rand = df_rand[['00', '10', '01', '11']].std()"
   ]
  },
  {
   "cell_type": "code",
   "execution_count": 16,
   "metadata": {},
   "outputs": [],
   "source": [
    "config_means = df[['00', '10', '01', '11']].mean()\n",
    "config_std = df[['00', '10', '01', '11']].std()"
   ]
  },
  {
   "cell_type": "code",
   "execution_count": null,
   "metadata": {},
   "outputs": [],
   "source": []
  },
  {
   "cell_type": "code",
   "execution_count": 18,
   "metadata": {},
   "outputs": [
    {
     "data": {
      "image/png": "[encoded data removed]",
      "text/plain": [
       "<Figure size 640x480 with 1 Axes>"
      ]
     },
     "metadata": {},
     "output_type": "display_data"
    }
   ],
   "source": [
    "\n",
    "plt.style.use('default')\n",
    "plt.ylim([0,12])\n",
    "plt.bar(['00','10','01','11'], config_means_rand, yerr=config_std_rand,capsize=10, color='mbgc')# yerr=config_std, capsize=5, color='skyblue', ax=ax)\n",
    "plt.xlabel(\"Input case\")\n",
    "plt.ylabel(\"Force (N)\")\n",
    "plt.title(\"Control\")\n",
    "plt.plot([-0.40,1,3.4], [10.058]*3, color='red')\n",
    "# plt.grid()\n",
    "plt.show()"
   ]
  },
  {
   "cell_type": "code",
   "execution_count": null,
   "metadata": {},
   "outputs": [],
   "source": []
  }
 ],
 "metadata": {
  "kernelspec": {
   "display_name": "base",
   "language": "python",
   "name": "python3"
  },
  "language_info": {
   "codemirror_mode": {
    "name": "ipython",
    "version": 3
   },
   "file_extension": ".py",
   "mimetype": "text/x-python",
   "name": "python",
   "nbconvert_exporter": "python",
   "pygments_lexer": "ipython3",
   "version": "3.7.0"
  }
 },
 "nbformat": 4,
 "nbformat_minor": 2
}
